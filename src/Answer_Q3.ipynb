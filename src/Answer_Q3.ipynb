{
 "cells": [
  {
   "cell_type": "markdown",
   "metadata": {},
   "source": [
    "# Class: Cybersecurity Technologies - Fall 2021 CYSM 3000 SEC501\n",
    "## Date: Oct. 9, 2021\n",
    "## Author: Blake Lawall\n",
    "\n",
    "### Discussion Question 3:\n",
    "Suppose that someone suggests the following way to confirm that the two of you are both in possession of the same secret key. You create a random bit string the length of the key, XOR it with the key, and send the result over the channel. Your partner XORs the incoming block with the key (which should be the same as your key) and sends it back. You check, and if what you receive is your original random string, you have verified that your partner has the same secret key, yet neither of you has ever transmitted the key. Is there a flaw in this scheme?"
   ]
  },
  {
   "cell_type": "markdown",
   "metadata": {},
   "source": [
    "## Answer:\n",
    "Yes, there is a flaw in this scheme! Here is a senerio that will show how.\n",
    "Here I will be sending a secret random message to Yolanda. Dr. Hicks in his patient and creative way will sniff the encrypted message that I send Yolanda and the unencrypted message which Yolanda sends back to me."
   ]
  },
  {
   "cell_type": "code",
   "execution_count": 1,
   "metadata": {},
   "outputs": [],
   "source": [
    "# imported libraries\n",
    "import string \n",
    "import random"
   ]
  },
  {
   "cell_type": "code",
   "execution_count": 2,
   "metadata": {},
   "outputs": [
    {
     "name": "stdout",
     "output_type": "stream",
     "text": [
      "0123456789abcdefghijklmnopqrstuvwxyzABCDEFGHIJKLMNOPQRSTUVWXYZ!\"#$%&'()*+,-./:;<=>?@[\\]^_`{|}~ \t\n",
      "\r",
      "\u000b",
      "\f",
      "\n"
     ]
    }
   ],
   "source": [
    "# List of characters that are used in the random message including some control chars \\n, \\r, \\t, etc.\n",
    "print(string.printable)"
   ]
  },
  {
   "cell_type": "code",
   "execution_count": 3,
   "metadata": {},
   "outputs": [],
   "source": [
    "key = \"Too many secrets\" # Sneakers ref (Robinson, 1992)\n",
    "# Random message created as same length as the key\n",
    "message_to_be_sent = random.sample(string.printable, len(key))\n"
   ]
  },
  {
   "cell_type": "code",
   "execution_count": 4,
   "metadata": {},
   "outputs": [
    {
     "name": "stdout",
     "output_type": "stream",
     "text": [
      "f_M6*E\u000b",
      "{XWRTSuC5\n"
     ]
    }
   ],
   "source": [
    "# Converting from a list to a string\n",
    "message_to_be_sent_tostring = \"\".join(message_to_be_sent)\n",
    "print(message_to_be_sent_tostring)"
   ]
  },
  {
   "cell_type": "code",
   "execution_count": 5,
   "metadata": {},
   "outputs": [],
   "source": [
    "# Converting secret key chars to numbers\n",
    "ascii_key = list(map(ord, key))"
   ]
  },
  {
   "cell_type": "code",
   "execution_count": 6,
   "metadata": {},
   "outputs": [],
   "source": [
    "# Converting message chars to numbers\n",
    "ascii_message_to_be_sent = list(map(ord, message_to_be_sent_tostring))"
   ]
  },
  {
   "cell_type": "code",
   "execution_count": 7,
   "metadata": {},
   "outputs": [],
   "source": [
    "# Making the key and message into pairs to be able to XOR them\n",
    "pairs = list(zip(ascii_key, ascii_message_to_be_sent))"
   ]
  },
  {
   "cell_type": "code",
   "execution_count": 8,
   "metadata": {},
   "outputs": [],
   "source": [
    "# Function that is XORing the secret key and random message together for encryption\n",
    "def xor_pair(items):\n",
    "    return items[0] ^ items[1] # using builtin XOR operator (BitwiseOperators - Python Wiki, n.d.)\n"
   ]
  },
  {
   "cell_type": "code",
   "execution_count": 9,
   "metadata": {},
   "outputs": [],
   "source": [
    "# Calling the function to encrypt the random message\n",
    "encrypted_message = list(map(xor_pair, zip(ascii_key, ascii_message_to_be_sent)))"
   ]
  },
  {
   "cell_type": "code",
   "execution_count": 10,
   "metadata": {},
   "outputs": [
    {
     "name": "stdout",
     "output_type": "stream",
     "text": [
      "[84, 111, 111, 32, 109, 97, 110, 121, 32, 115, 101, 99, 114, 101, 116, 115]\n",
      "[102, 95, 77, 54, 42, 69, 11, 123, 88, 87, 82, 84, 83, 117, 67, 53]\n",
      "[50, 48, 34, 22, 71, 36, 101, 2, 120, 36, 55, 55, 33, 16, 55, 70]\n"
     ]
    }
   ],
   "source": [
    "# Showing the number values of the key, message, and the encrypted message\n",
    "print(ascii_key)\n",
    "print(ascii_message_to_be_sent)\n",
    "print(encrypted_message)"
   ]
  },
  {
   "cell_type": "code",
   "execution_count": 11,
   "metadata": {},
   "outputs": [
    {
     "data": {
      "text/plain": [
       "50"
      ]
     },
     "execution_count": 11,
     "metadata": {},
     "output_type": "execute_result"
    }
   ],
   "source": [
    "84 ^ ascii_message_to_be_sent[0] # example 1 showing that the XORing works"
   ]
  },
  {
   "cell_type": "code",
   "execution_count": 12,
   "metadata": {},
   "outputs": [
    {
     "data": {
      "text/plain": [
       "48"
      ]
     },
     "execution_count": 12,
     "metadata": {},
     "output_type": "execute_result"
    }
   ],
   "source": [
    "111 ^ ascii_message_to_be_sent[1]  # example 2 showing that the XORing works"
   ]
  },
  {
   "cell_type": "code",
   "execution_count": 13,
   "metadata": {},
   "outputs": [
    {
     "data": {
      "text/plain": [
       "34"
      ]
     },
     "execution_count": 13,
     "metadata": {},
     "output_type": "execute_result"
    }
   ],
   "source": [
    "111 ^ ascii_message_to_be_sent[2]  # example 3 showing that the XORing works"
   ]
  },
  {
   "cell_type": "code",
   "execution_count": 14,
   "metadata": {},
   "outputs": [
    {
     "name": "stdout",
     "output_type": "stream",
     "text": [
      "20\"\u0016G$e\u0002x$77!\u00107F\n"
     ]
    }
   ],
   "source": [
    "# Converting the secert message back to characters to be sent to Yolanda\n",
    "encrypted_message_sent = \"\".join(map(chr, encrypted_message))\n",
    "print(encrypted_message_sent) # Showing the encrypted message"
   ]
  },
  {
   "cell_type": "markdown",
   "metadata": {},
   "source": [
    "Dr. Hicks-in-the-middle attack sniffs and intercepts the encrypted_message_sent and waits."
   ]
  },
  {
   "cell_type": "markdown",
   "metadata": {},
   "source": [
    "Yolanda receives the encrypted message and proceeds to decrypt with her secert key which should be the same as mine."
   ]
  },
  {
   "cell_type": "code",
   "execution_count": 15,
   "metadata": {},
   "outputs": [
    {
     "name": "stdout",
     "output_type": "stream",
     "text": [
      "[50, 48, 34, 22, 71, 36, 101, 2, 120, 36, 55, 55, 33, 16, 55, 70]\n"
     ]
    }
   ],
   "source": [
    "# Yolanda converting the encrypted message to numbers\n",
    "ascii_rcvd_msg = list(map(ord, encrypted_message_sent))\n",
    "print(ascii_rcvd_msg)"
   ]
  },
  {
   "cell_type": "code",
   "execution_count": 16,
   "metadata": {},
   "outputs": [
    {
     "name": "stdout",
     "output_type": "stream",
     "text": [
      "[(84, 50), (111, 48), (111, 34), (32, 22), (109, 71), (97, 36), (110, 101), (121, 2), (32, 120), (115, 36), (101, 55), (99, 55), (114, 33), (101, 16), (116, 55), (115, 70)]\n"
     ]
    }
   ],
   "source": [
    "# Yolanda creating the pairs list to run the XOR on\n",
    "yolanda_pairs = list(zip(ascii_key, ascii_rcvd_msg))\n",
    "print(yolanda_pairs)"
   ]
  },
  {
   "cell_type": "code",
   "execution_count": 17,
   "metadata": {},
   "outputs": [],
   "source": [
    "# Yolanda running her secret key to decrypt the message\n",
    "unencrypted_message = list(map(xor_pair, yolanda_pairs))"
   ]
  },
  {
   "cell_type": "code",
   "execution_count": 18,
   "metadata": {},
   "outputs": [
    {
     "name": "stdout",
     "output_type": "stream",
     "text": [
      "[102, 95, 77, 54, 42, 69, 11, 123, 88, 87, 82, 84, 83, 117, 67, 53]\n"
     ]
    }
   ],
   "source": [
    "# the numerical values of the enencrypted message\n",
    "print(unencrypted_message)"
   ]
  },
  {
   "cell_type": "code",
   "execution_count": 19,
   "metadata": {},
   "outputs": [
    {
     "name": "stdout",
     "output_type": "stream",
     "text": [
      "f_M6*E\u000b",
      "{XWRTSuC5\n"
     ]
    }
   ],
   "source": [
    "# Taking the message back to characters\n",
    "unencrypted_message_sent = \"\".join(map(chr, unencrypted_message))\n",
    "print(unencrypted_message_sent)"
   ]
  },
  {
   "cell_type": "markdown",
   "metadata": {},
   "source": [
    "Dr. Hicks-in-the-middle attack sniffs and intercepts the unencrypted_message_sent and reverse XOR and get the key."
   ]
  },
  {
   "cell_type": "code",
   "execution_count": 20,
   "metadata": {},
   "outputs": [
    {
     "name": "stdout",
     "output_type": "stream",
     "text": [
      "20\"\u0016G$e\u0002x$77!\u00107F\n",
      "f_M6*E\u000b",
      "{XWRTSuC5\n"
     ]
    }
   ],
   "source": [
    "# Dr. Hicks inspecting the encrypted message and the unencryped message\n",
    "print(encrypted_message_sent)\n",
    "print(unencrypted_message_sent)"
   ]
  },
  {
   "cell_type": "code",
   "execution_count": 21,
   "metadata": {},
   "outputs": [],
   "source": [
    "# Dr. Hicks converting the messages to numbers\n",
    "ascii_encrypted_message_sent = list(map(ord, encrypted_message_sent))\n",
    "ascii_unencrypted_message_sent = list(map(ord, unencrypted_message_sent))"
   ]
  },
  {
   "cell_type": "code",
   "execution_count": 22,
   "metadata": {},
   "outputs": [
    {
     "name": "stdout",
     "output_type": "stream",
     "text": [
      "[50, 48, 34, 22, 71, 36, 101, 2, 120, 36, 55, 55, 33, 16, 55, 70]\n",
      "[102, 95, 77, 54, 42, 69, 11, 123, 88, 87, 82, 84, 83, 117, 67, 53]\n"
     ]
    }
   ],
   "source": [
    "# Dr. Hicks looking at those numbers\n",
    "print(ascii_encrypted_message_sent)\n",
    "print(ascii_unencrypted_message_sent)"
   ]
  },
  {
   "cell_type": "code",
   "execution_count": 23,
   "metadata": {},
   "outputs": [],
   "source": [
    "# Dr. Hicks creating a pair list to run XOR on to see if he can get the secert key\n",
    "drhicks_pairs = list(zip(ascii_encrypted_message_sent, ascii_unencrypted_message_sent))"
   ]
  },
  {
   "cell_type": "code",
   "execution_count": 24,
   "metadata": {},
   "outputs": [],
   "source": [
    "# Dr. Hicks running the XOR\n",
    "drhicks_gets_key = list(map(xor_pair, drhicks_pairs))"
   ]
  },
  {
   "cell_type": "code",
   "execution_count": 25,
   "metadata": {},
   "outputs": [
    {
     "name": "stdout",
     "output_type": "stream",
     "text": [
      "[84, 111, 111, 32, 109, 97, 110, 121, 32, 115, 101, 99, 114, 101, 116, 115]\n"
     ]
    }
   ],
   "source": [
    "# Dr. Hicks looking at the numbers he got from XORing\n",
    "print(drhicks_gets_key)"
   ]
  },
  {
   "cell_type": "code",
   "execution_count": 26,
   "metadata": {},
   "outputs": [],
   "source": [
    "# Dr. Hicks changing the numbers to characters to get the key\n",
    "stollen_key = \"\".join(map(chr, drhicks_gets_key))"
   ]
  },
  {
   "cell_type": "code",
   "execution_count": 27,
   "metadata": {},
   "outputs": [
    {
     "name": "stdout",
     "output_type": "stream",
     "text": [
      "Too many secrets\n"
     ]
    }
   ],
   "source": [
    "# Dr. Hicks printing the secret key\n",
    "print(stollen_key)"
   ]
  },
  {
   "cell_type": "markdown",
   "metadata": {},
   "source": [
    "Now Dr. Hicks knows the secret key."
   ]
  },
  {
   "cell_type": "markdown",
   "metadata": {},
   "source": [
    "### References\n",
    "\n",
    "BitwiseOperators - Python Wiki. (n.d.). Python. Retrieved October 9, 2021, from https://wiki.python.org/moin/BitwiseOperators\n",
    "\n",
    "Robinson, P. A. (Director). (1992). Sneakers [Film]. Universal Pictures.\n",
    "\n",
    "Symmetric Key Cryptography: The XOR Cipher. (2019, March 3). YouTube. https://www.youtube.com/watch?v=pvII6_O6KAc"
   ]
  },
  {
   "cell_type": "code",
   "execution_count": null,
   "metadata": {},
   "outputs": [],
   "source": []
  }
 ],
 "metadata": {
  "kernelspec": {
   "display_name": "Python 3",
   "language": "python",
   "name": "python3"
  },
  "language_info": {
   "codemirror_mode": {
    "name": "ipython",
    "version": 3
   },
   "file_extension": ".py",
   "mimetype": "text/x-python",
   "name": "python",
   "nbconvert_exporter": "python",
   "pygments_lexer": "ipython3",
   "version": "3.8.8"
  }
 },
 "nbformat": 4,
 "nbformat_minor": 4
}
